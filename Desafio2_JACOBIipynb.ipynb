{
  "nbformat": 4,
  "nbformat_minor": 0,
  "metadata": {
    "colab": {
      "provenance": [],
      "authorship_tag": "ABX9TyM5WAdoXqlxRuyzirIGnRxN"
    },
    "kernelspec": {
      "name": "python3",
      "display_name": "Python 3"
    },
    "language_info": {
      "name": "python"
    }
  },
  "cells": [
    {
      "cell_type": "code",
      "execution_count": null,
      "metadata": {
        "colab": {
          "base_uri": "https://localhost:8080/"
        },
        "id": "bE_sxobYqAU0",
        "outputId": "7d6331f3-f384-4e9a-fbe1-128867b71df7"
      },
      "outputs": [
        {
          "output_type": "stream",
          "name": "stdout",
          "text": [
            "Solución: [4011.0391087  7162.14144903 5124.98252   ]\n",
            "Iteraciones: 100\n"
          ]
        }
      ],
      "source": [
        "import numpy as np\n",
        "\n",
        "\n",
        "A = np.array([[0.52, 0.20, 0.25],\n",
        "              [0.30, 0.50, 0.20],\n",
        "              [0.18, 0.30, 0.55]])\n",
        "\n",
        "b = np.array([4800, 5810, 5690])\n",
        "\n",
        "x = np.zeros_like(b)\n",
        "\n",
        "tolerancia = 1e-5\n",
        "max_iteraciones = 100\n",
        "\n",
        "\n",
        "def jacobi(A, b, x, tolerancia, max_iteraciones):\n",
        "    D = np.diag(A)\n",
        "    R = A - np.diagflat(D)\n",
        "\n",
        "    for i in range(max_iteraciones):\n",
        "        x2= (b - np.dot(R, x)) / D\n",
        "        if np.linalg.norm(x2-x, ord=np.inf) < tolerancia:\n",
        "            return x2, i + 1\n",
        "        x = x2\n",
        "    return x, max_iteraciones\n",
        "\n",
        "\n",
        "solucion, iteraciones = jacobi(A, b, x, tolerancia, max_iteraciones)\n",
        "print(f'Solución: {solucion}')\n",
        "print(f'Iteraciones: {iteraciones}')\n"
      ]
    }
  ]
}