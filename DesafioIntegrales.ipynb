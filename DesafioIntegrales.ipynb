{
  "nbformat": 4,
  "nbformat_minor": 0,
  "metadata": {
    "colab": {
      "provenance": [],
      "authorship_tag": "ABX9TyMwh9R9PKGYRcMn+sZu8vlj",
      "include_colab_link": true
    },
    "kernelspec": {
      "name": "python3",
      "display_name": "Python 3"
    },
    "language_info": {
      "name": "python"
    }
  },
  "cells": [
    {
      "cell_type": "markdown",
      "metadata": {
        "id": "view-in-github",
        "colab_type": "text"
      },
      "source": [
        "<a href=\"https://colab.research.google.com/github/Olex58/Metodos-numericos/blob/main/DesafioIntegrales.ipynb\" target=\"_parent\"><img src=\"https://colab.research.google.com/assets/colab-badge.svg\" alt=\"Open In Colab\"/></a>"
      ]
    },
    {
      "cell_type": "code",
      "execution_count": null,
      "metadata": {
        "id": "ydzY6131WwIm"
      },
      "outputs": [],
      "source": [
        "import numpy as np\n",
        "from scipy.integrate import simps, trapz\n",
        "\n",
        "\n",
        "x = np.array([1, 2, 3, 4, 5, 6, 7, 8, 9, 10])\n",
        "y = np.array([2.0, 3.5, 4.0, 3.0, 2.5, 2.0, 3.0, 4.5, 5.5, 5.0])\n",
        "\n",
        "\n",
        "area_trapecio = trapz(y, x)\n",
        "\n",
        "\n",
        "area_simpson = simps(y, x)\n",
        "\n",
        "print(\"Área aproximada con el método del trapecio:\", area_trapecio)\n",
        "print(\"Área aproximada con el método de Simpson:\", area_simpson)\n"
      ]
    }
  ]
}