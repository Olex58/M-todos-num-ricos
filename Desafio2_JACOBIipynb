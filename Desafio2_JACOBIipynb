import numpy as np


A = np.array([[0.52, 0.20, 0.25],
              [0.30, 0.50, 0.20],
              [0.18, 0.30, 0.55]])

b = np.array([4800, 5810, 5690])

x = np.zeros_like(b)

tolerancia = 1e-5
max_iteraciones = 100


def jacobi(A, b, x, tolerancia, max_iteraciones):
    D = np.diag(A)
    R = A - np.diagflat(D)

    for i in range(max_iteraciones):
        x2= (b - np.dot(R, x)) / D
        if np.linalg.norm(x2-x, ord=np.inf) < tolerancia:
            return x2, i + 1
        x = x2
    return x, max_iteraciones


solucion, iteraciones = jacobi(A, b, x, tolerancia, max_iteraciones)

# Print the results
print(f'Solución: {solucion}')
print(f'Iteraciones: {iteraciones}')
