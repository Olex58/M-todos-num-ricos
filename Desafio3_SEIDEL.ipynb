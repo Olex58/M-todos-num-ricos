{
  "nbformat": 4,
  "nbformat_minor": 0,
  "metadata": {
    "colab": {
      "provenance": [],
      "authorship_tag": "ABX9TyPQRvK8ZooSvOYxICe0QGVO",
      "include_colab_link": true
    },
    "kernelspec": {
      "name": "python3",
      "display_name": "Python 3"
    },
    "language_info": {
      "name": "python"
    }
  },
  "cells": [
    {
      "cell_type": "markdown",
      "metadata": {
        "id": "view-in-github",
        "colab_type": "text"
      },
      "source": [
        "<a href=\"https://colab.research.google.com/github/Olex58/Metodos-numericos/blob/main/Desafio3_SEIDEL.ipynb\" target=\"_parent\"><img src=\"https://colab.research.google.com/assets/colab-badge.svg\" alt=\"Open In Colab\"/></a>"
      ]
    },
    {
      "cell_type": "code",
      "execution_count": 3,
      "metadata": {
        "colab": {
          "base_uri": "https://localhost:8080/"
        },
        "id": "ZTYpdppXYgZo",
        "outputId": "454da7bb-8014-47bf-f8b5-11cd6385ac41"
      },
      "outputs": [
        {
          "output_type": "stream",
          "name": "stdout",
          "text": [
            "Solución: [4011 7163 5125]\n",
            "Iteraciones: 8\n"
          ]
        }
      ],
      "source": [
        "import numpy as np\n",
        "\n",
        "\n",
        "A = np.array([[0.52, 0.20, 0.25],\n",
        "              [0.30, 0.50, 0.20],\n",
        "              [0.18, 0.30, 0.55]])\n",
        "\n",
        "b = np.array([4800, 5810, 5690])\n",
        "x = np.zeros_like(b)\n",
        "tolerancia = 1e-5\n",
        "max_iteraciones = 100\n",
        "\n",
        "def seidel(A, b, x, tolerancia, max_iteraciones):\n",
        "    for iteracion in range(max_iteraciones):\n",
        "        x2 = np.copy(x)\n",
        "        for i in range(len(x)):\n",
        "            sum = np.dot(A[i, :i], x2[:i]) + np.dot(A[i, i+1:], x[i+1:])\n",
        "            x2[i] = (b[i] - sum) / A[i, i]\n",
        "        if np.linalg.norm(x2 - x, ord=np.inf) < tolerancia:\n",
        "            return x2, iteracion + 1\n",
        "        x = x2\n",
        "    return x, max_iteraciones\n",
        "\n",
        "solucion, iteraciones = seidel(A, b, x, tolerancia, max_iteraciones)\n",
        "\n",
        "print(f'Solución: {solucion}')\n",
        "print(f'Iteraciones: {iteraciones}')\n"
      ]
    }
  ]
}